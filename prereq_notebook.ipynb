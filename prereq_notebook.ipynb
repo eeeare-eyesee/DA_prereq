{
 "cells": [
  {
   "cell_type": "code",
   "execution_count": 1,
   "id": "5b3cfaad",
   "metadata": {},
   "outputs": [
    {
     "name": "stdout",
     "output_type": "stream",
     "text": [
      "Hello World\n"
     ]
    }
   ],
   "source": [
    "print(\"Hello World\")"
   ]
  },
  {
   "cell_type": "markdown",
   "id": "6ae3d754",
   "metadata": {},
   "source": [
    "#Hello! I am Eric and I am excited to have chose data analysis as my pathway for code you.\n",
    "I am most excited about picking up some python concepts and applying those to data analysis. I have had some minimal coding experience in the past so hopefully the learning curve isn't too steep,\n",
    "but I'm confident the instructors will help me pick up anything I'm lacking. Can't wait to get started!"
   ]
  },
  {
   "cell_type": "markdown",
   "id": "5cf943ac",
   "metadata": {},
   "source": []
  }
 ],
 "metadata": {
  "kernelspec": {
   "display_name": "Python 3",
   "language": "python",
   "name": "python3"
  },
  "language_info": {
   "codemirror_mode": {
    "name": "ipython",
    "version": 3
   },
   "file_extension": ".py",
   "mimetype": "text/x-python",
   "name": "python",
   "nbconvert_exporter": "python",
   "pygments_lexer": "ipython3",
   "version": "3.13.5"
  }
 },
 "nbformat": 4,
 "nbformat_minor": 5
}
